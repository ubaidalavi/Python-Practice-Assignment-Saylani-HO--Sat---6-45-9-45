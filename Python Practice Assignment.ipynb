{
 "cells": [
  {
   "cell_type": "code",
   "execution_count": 31,
   "metadata": {},
   "outputs": [
    {
     "name": "stdout",
     "output_type": "stream",
     "text": [
      "Welcome to Karachi University!\n"
     ]
    }
   ],
   "source": [
    "SAT = \"av\"\n",
    "GPA = 2.6\n",
    "parent = \"alu\"\n",
    "\n",
    "if SAT == \"avg\" or GPA > 2.5 or parent == \"alum\":\n",
    "   print(\"Welcome to Karachi University!\")"
   ]
  },
  {
   "cell_type": "code",
   "execution_count": 33,
   "metadata": {},
   "outputs": [
    {
     "name": "stdout",
     "output_type": "stream",
     "text": [
      "Welcome to Karachi University!\n"
     ]
    }
   ],
   "source": [
    "SAT = \"avg\"\n",
    "GPA = 2.6\n",
    "parent = \"alum\"\n",
    "\n",
    "if SAT == \"avg\" and GPA > 2.5 and parent == \"alum\":\n",
    "   print(\"Welcome to Karachi University!\")\n",
    "else:\n",
    "    print(\"Sorry! You do not meet the criteria for addmission\")"
   ]
  },
  {
   "cell_type": "code",
   "execution_count": 35,
   "metadata": {},
   "outputs": [
    {
     "name": "stdout",
     "output_type": "stream",
     "text": [
      "Sorry! You do not meet the criteria for addmission\n"
     ]
    }
   ],
   "source": [
    "SAT = \"av\"\n",
    "GPA = 2.6\n",
    "parent = \"alum\"\n",
    "\n",
    "if SAT == \"avg\" and GPA > 2.5 and parent == \"alum\":\n",
    "   print(\"Welcome to Karachi University\")\n",
    "else:\n",
    "    print(\"Sorry! You do not meet the criteria for addmission\")"
   ]
  },
  {
   "cell_type": "code",
   "execution_count": 43,
   "metadata": {},
   "outputs": [
    {
     "data": {
      "text/plain": [
       "['Karachi', 'Lahore', 'Multan']"
      ]
     },
     "execution_count": 43,
     "metadata": {},
     "output_type": "execute_result"
    }
   ],
   "source": [
    "cities = ['Karachi', 'Lahore', 'Multan']\n",
    "cities"
   ]
  },
  {
   "cell_type": "code",
   "execution_count": 44,
   "metadata": {},
   "outputs": [
    {
     "data": {
      "text/plain": [
       "['Karachi', 'Lahore', 'Multan', 'Islamabad']"
      ]
     },
     "execution_count": 44,
     "metadata": {},
     "output_type": "execute_result"
    }
   ],
   "source": [
    "cities.append (\"Islamabad\")\n",
    "cities"
   ]
  },
  {
   "cell_type": "code",
   "execution_count": 45,
   "metadata": {},
   "outputs": [
    {
     "data": {
      "text/plain": [
       "['Faisalabad', 'Karachi', 'Lahore', 'Multan', 'Islamabad']"
      ]
     },
     "execution_count": 45,
     "metadata": {},
     "output_type": "execute_result"
    }
   ],
   "source": [
    "cities.insert (0, \"Faisalabad\")\n",
    "cities"
   ]
  },
  {
   "cell_type": "code",
   "execution_count": 46,
   "metadata": {},
   "outputs": [
    {
     "data": {
      "text/plain": [
       "['Faisalabad', 'Karachi', 'Quetta', 'Multan', 'Islamabad']"
      ]
     },
     "execution_count": 46,
     "metadata": {},
     "output_type": "execute_result"
    }
   ],
   "source": [
    "cities[2] = \"Quetta\"\n",
    "cities"
   ]
  },
  {
   "cell_type": "code",
   "execution_count": 52,
   "metadata": {},
   "outputs": [
    {
     "data": {
      "text/plain": [
       "['Karachi']"
      ]
     },
     "execution_count": 52,
     "metadata": {},
     "output_type": "execute_result"
    }
   ],
   "source": [
    "sindh_cities = cities[1:2]\n",
    "sindh_cities"
   ]
  },
  {
   "cell_type": "code",
   "execution_count": 54,
   "metadata": {},
   "outputs": [
    {
     "data": {
      "text/plain": [
       "['Quetta']"
      ]
     },
     "execution_count": 54,
     "metadata": {},
     "output_type": "execute_result"
    }
   ],
   "source": [
    "balochistan_cities = cities[2:3]\n",
    "balochistan_cities"
   ]
  },
  {
   "cell_type": "code",
   "execution_count": 56,
   "metadata": {},
   "outputs": [
    {
     "data": {
      "text/plain": [
       "['Faisalabad', 'Multan', 'Islamabad']"
      ]
     },
     "execution_count": 56,
     "metadata": {},
     "output_type": "execute_result"
    }
   ],
   "source": [
    "punjab_cities = cities[0:1] + cities[3:5]\n",
    "punjab_cities"
   ]
  },
  {
   "cell_type": "code",
   "execution_count": 59,
   "metadata": {},
   "outputs": [
    {
     "data": {
      "text/plain": [
       "['Come to office',\n",
       " 'Start PC',\n",
       " 'Check mails',\n",
       " 'Mark relevant',\n",
       " 'Solve the issues']"
      ]
     },
     "execution_count": 59,
     "metadata": {},
     "output_type": "execute_result"
    }
   ],
   "source": [
    "tasks_to_be_done = ['Come to office', 'Start PC', 'Check mails', 'Mark relevant', 'Solve the issues']\n",
    "tasks_to_be_done"
   ]
  },
  {
   "cell_type": "code",
   "execution_count": 60,
   "metadata": {},
   "outputs": [
    {
     "data": {
      "text/plain": [
       "['Start PC', 'Check mails', 'Mark relevant', 'Solve the issues']"
      ]
     },
     "execution_count": 60,
     "metadata": {},
     "output_type": "execute_result"
    }
   ],
   "source": [
    "del tasks_to_be_done[0]\n",
    "tasks_to_be_done"
   ]
  },
  {
   "cell_type": "code",
   "execution_count": 61,
   "metadata": {},
   "outputs": [
    {
     "data": {
      "text/plain": [
       "['Start PC', 'Check mails', 'Solve the issues']"
      ]
     },
     "execution_count": 61,
     "metadata": {},
     "output_type": "execute_result"
    }
   ],
   "source": [
    "tasks_to_be_done.remove('Mark relevant')\n",
    "tasks_to_be_done"
   ]
  },
  {
   "cell_type": "code",
   "execution_count": 71,
   "metadata": {},
   "outputs": [
    {
     "data": {
      "text/plain": [
       "['Come to office',\n",
       " 'Start PC',\n",
       " 'Check mails',\n",
       " 'Mark relevant',\n",
       " 'Solve the issues']"
      ]
     },
     "execution_count": 71,
     "metadata": {},
     "output_type": "execute_result"
    }
   ],
   "source": [
    "tasks_to_be_done = ['Come to office', 'Start PC', 'Check mails', 'Mark relevant', 'Solve the issues']\n",
    "tasks_to_be_done"
   ]
  },
  {
   "cell_type": "code",
   "execution_count": 89,
   "metadata": {},
   "outputs": [
    {
     "name": "stdout",
     "output_type": "stream",
     "text": [
      "This can only be done by going to office\n",
      "This can only be done by going to office\n",
      "This can only be done by going to office\n",
      "This can only be done by going to office\n",
      "This can only be done by going to office\n"
     ]
    }
   ],
   "source": [
    "tasks_to_be_done_from_home = ['Start PC', 'Check mails', 'Mark relevant', 'Solve the issues']\n",
    "for tasks_to_be_done_from_office_only in tasks_to_be_done:\n",
    "    if tasks_to_be_done_from_home == tasks_to_be_done:\n",
    "        print(\"This task can be done both from office and home\")\n",
    "    else:\n",
    "        print(\"This can only be done by going to office\")    "
   ]
  },
  {
   "cell_type": "code",
   "execution_count": 90,
   "metadata": {},
   "outputs": [
    {
     "name": "stdout",
     "output_type": "stream",
     "text": [
      "This can only be done by going to office\n"
     ]
    }
   ],
   "source": [
    "tasks_to_be_done_from_home = ['Start PC', 'Check mails', 'Mark relevant', 'Solve the issues']\n",
    "for tasks_to_be_done_from_office_only in tasks_to_be_done:\n",
    "    if tasks_to_be_done_from_home == tasks_to_be_done:\n",
    "        print(\"This task can be done both from office and home\")\n",
    "    else:\n",
    "        print(\"This can only be done by going to office\")\n",
    "    break"
   ]
  },
  {
   "cell_type": "code",
   "execution_count": 94,
   "metadata": {},
   "outputs": [
    {
     "name": "stdout",
     "output_type": "stream",
     "text": [
      "Khalid Khan\n",
      "Khalid Qureshi\n",
      "Khalid Siddiqui\n",
      "Khalid Shinwari\n",
      "Khalid Afridi\n",
      "Afzal Khan\n",
      "Afzal Qureshi\n",
      "Afzal Siddiqui\n",
      "Afzal Shinwari\n",
      "Afzal Afridi\n",
      "Imran Khan\n",
      "Imran Qureshi\n",
      "Imran Siddiqui\n",
      "Imran Shinwari\n",
      "Imran Afridi\n",
      "Furqan Khan\n",
      "Furqan Qureshi\n",
      "Furqan Siddiqui\n",
      "Furqan Shinwari\n",
      "Furqan Afridi\n",
      "Shahid Khan\n",
      "Shahid Qureshi\n",
      "Shahid Siddiqui\n",
      "Shahid Shinwari\n",
      "Shahid Afridi\n"
     ]
    }
   ],
   "source": [
    "first_names = ['Khalid', 'Afzal', 'Imran', 'Furqan', 'Shahid']\n",
    "last_names = ['Khan', 'Qureshi', \"Siddiqui\", \"Shinwari\", \"Afridi\"]\n",
    "for a_first_name in first_names:\n",
    "    for a_last_name in last_names:\n",
    "        print(a_first_name + \" \" + a_last_name)"
   ]
  },
  {
   "cell_type": "code",
   "execution_count": 30,
   "metadata": {},
   "outputs": [
    {
     "name": "stdout",
     "output_type": "stream",
     "text": [
      "Enter city name to check if it is a Capital City in Pakistan: quetta\n",
      "Quetta is one of the Capital Cities in Pakistan\n"
     ]
    }
   ],
   "source": [
    "capital_cities = [\"karachi\", \"lahore\", \"islamabad\", \"quetta\", \"peshawar\"]\n",
    "city_input = input(\"Enter city name to check if it is a Capital City in Pakistan: \")\n",
    "city_input = city_input.lower()\n",
    "for city_check in capital_cities:\n",
    "    if city_input == city_check:\n",
    "        print(city_input.title() + \" is one of the Capital Cities in Pakistan\")\n",
    "   # else:\n",
    "   #     print(city_input.title() + \" is not a Capital City in Pakistan\")\n",
    "        "
   ]
  },
  {
   "cell_type": "code",
   "execution_count": 37,
   "metadata": {},
   "outputs": [
    {
     "name": "stdout",
     "output_type": "stream",
     "text": [
      "12345\n"
     ]
    }
   ],
   "source": [
    "student_dictionary_1 = {\"First Name\": \"Ubaid\", \"Last Name\": \"Alavi\", \"Roll No\": \"12345\"}\n",
    "roll_no = student_dictionary_1[\"Roll No\"]\n",
    "print (roll_no)"
   ]
  }
 ],
 "metadata": {
  "kernelspec": {
   "display_name": "Python 3",
   "language": "python",
   "name": "python3"
  },
  "language_info": {
   "codemirror_mode": {
    "name": "ipython",
    "version": 3
   },
   "file_extension": ".py",
   "mimetype": "text/x-python",
   "name": "python",
   "nbconvert_exporter": "python",
   "pygments_lexer": "ipython3",
   "version": "3.7.3"
  }
 },
 "nbformat": 4,
 "nbformat_minor": 2
}
